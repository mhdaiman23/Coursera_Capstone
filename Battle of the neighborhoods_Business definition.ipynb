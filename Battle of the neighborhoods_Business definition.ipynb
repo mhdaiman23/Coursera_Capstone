{
 "cells": [
  {
   "cell_type": "markdown",
   "metadata": {},
   "source": [
    "# Coursera Capstone - Battle of the Neighborhoods "
   ]
  },
  {
   "cell_type": "markdown",
   "metadata": {},
   "source": [
    "## Defining the business problem"
   ]
  },
  {
   "cell_type": "markdown",
   "metadata": {},
   "source": [
    "The Cuisines of New York City includes numerous foods having a place with different ethnic gatherings that have entered the United States through the city. Practically all ethnic cooking styles are very much spoken to in New York City, both inside and outside the different ethnic neighborhoods. New York City was additionally the establishing city of New York Restaurant Week which has spread the world over because of the limited costs that such an arrangement offers. In New York City there are more than 12,000 bodegas, shops and goods and numerous among them are open 24 hours per day, 7 days seven days."
   ]
  },
  {
   "cell_type": "markdown",
   "metadata": {},
   "source": [
    "A Customer needs to open couple of more branches of his Chinese restaurant as a feature of business extension. To do so, he needs to know most the appropriate locations for new branches in the middle of NewYork where he can maximize his returns. \n",
    "\n",
    "Need to distinguish sustenance propensities for the general population remaining in individual areas. \n",
    "We will examine the present cafés execution by utilizing evaluations. \n",
    "To investigate this we are going to list and envision every significant piece of New York City that has extraordinary Chinese eateries. \n",
    "We will discover the potential areas which has great measure of Chinese cafés. \n",
    "Going to consider evaluations of those cafés to bring bits of knowledge of how great those eateries was. The outcomes will be plotted on guide for better understanding."
   ]
  },
  {
   "cell_type": "markdown",
   "metadata": {},
   "source": [
    "## Objective"
   ]
  },
  {
   "cell_type": "markdown",
   "metadata": {},
   "source": [
    "### Primary Goal"
   ]
  },
  {
   "cell_type": "markdown",
   "metadata": {},
   "source": [
    "Preprocess and transform the dataset in order to convert it into an an understandable format. Generally, real-world data is often incomplete or have additional information  that may not be used. This step is vital as it can help us resolve and identify existing issues.<br/> \n",
    "\n",
    "Once the above is complete with call the FourSquare Api in order to identify the underlying venues for each of the neighborhoods. Clean the data so that all the Target Cuisine is identified. Explore the data further using FourSquare for tips, counts nad ratings. <br/> \n",
    "\n",
    "Finally help the client visualize the above data that can be helpful for interpretation using existing python libraries. **(OpenStreetMap tiles, but Stamen Terrain, Stamen Toner,\n",
    "Mapbox Bright, and Mapbox Control)**"
   ]
  },
  {
   "cell_type": "markdown",
   "metadata": {},
   "source": [
    "### Secondary goal"
   ]
  },
  {
   "cell_type": "markdown",
   "metadata": {},
   "source": [
    "The resultset must take into consideration a metric to measure its outcome. <br/>\n",
    "**Examples :**\n",
    "    - Using number of tips <br/>\n",
    "    - Using restaurant Ranking<br/>\n",
    "    - Using restaurant Rating<br/>"
   ]
  },
  {
   "cell_type": "markdown",
   "metadata": {},
   "source": [
    "*The metric chosen by me is still under consideration. This will be identified during the start of applying the above concepts* "
   ]
  },
  {
   "cell_type": "markdown",
   "metadata": {},
   "source": [
    "## Requirement"
   ]
  },
  {
   "cell_type": "markdown",
   "metadata": {},
   "source": [
    "1 . New York Data Source that contains the various neighorhoods of New York City <br/>\n",
    "2 . Identify the target cuisine in each of the neighborhoods. **(Target = Chinese)** <br/>\n",
    "3 . A Fourquare developer account to access the API <br/>\n",
    "4 . GeoSpace data to identify New York Borough boundries. **(To be used for map generation)** <br/>\n",
    "5 . **Both Goals must be completed in order to consider the Project as a personal sucess**"
   ]
  },
  {
   "cell_type": "markdown",
   "metadata": {},
   "source": [
    "## Referentials\n",
    "1 . New York City Data https://cocl.us/new_york_dataset <br/>\n",
    "2 . GeoSpace Data https://data.cityofnewyork.us/City-Government/Borough-Boundaries/tqmj-j8zm"
   ]
  },
  {
   "cell_type": "code",
   "execution_count": null,
   "metadata": {},
   "outputs": [],
   "source": []
  }
 ],
 "metadata": {
  "kernelspec": {
   "display_name": "Python 3",
   "language": "python",
   "name": "python3"
  },
  "language_info": {
   "codemirror_mode": {
    "name": "ipython",
    "version": 3
   },
   "file_extension": ".py",
   "mimetype": "text/x-python",
   "name": "python",
   "nbconvert_exporter": "python",
   "pygments_lexer": "ipython3",
   "version": "3.7.3"
  }
 },
 "nbformat": 4,
 "nbformat_minor": 2
}
